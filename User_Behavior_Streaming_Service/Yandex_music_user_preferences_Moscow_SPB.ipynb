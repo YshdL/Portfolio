{
 "cells": [
  {
   "cell_type": "markdown",
   "id": "a12506fc",
   "metadata": {
    "toc": true
   },
   "source": [
    "<h1>Содержание<span class=\"tocSkip\"></span></h1>\n",
    "<div class=\"toc\"><ul class=\"toc-item\"><li><span><a href=\"#Data-overview\" data-toc-modified-id=\"Data-overview-1\"><span class=\"toc-item-num\">1&nbsp;&nbsp;</span>Data overview</a></span></li><li><span><a href=\"#Data-Preprocessing\" data-toc-modified-id=\"Data-Preprocessing-2\"><span class=\"toc-item-num\">2&nbsp;&nbsp;</span>Data Preprocessing</a></span><ul class=\"toc-item\"><li><span><a href=\"#Missing-values\" data-toc-modified-id=\"Missing-values-2.1\"><span class=\"toc-item-num\">2.1&nbsp;&nbsp;</span>Missing values</a></span></li><li><span><a href=\"#Duplicate-rows\" data-toc-modified-id=\"Duplicate-rows-2.2\"><span class=\"toc-item-num\">2.2&nbsp;&nbsp;</span>Duplicate rows</a></span></li></ul></li><li><span><a href=\"#Hypothesis-Testing\" data-toc-modified-id=\"Hypothesis-Testing-3\"><span class=\"toc-item-num\">3&nbsp;&nbsp;</span>Hypothesis Testing</a></span><ul class=\"toc-item\"><li><span><a href=\"#Comparison-of-user-behavior-of-two-citys\" data-toc-modified-id=\"Comparison-of-user-behavior-of-two-citys-3.1\"><span class=\"toc-item-num\">3.1&nbsp;&nbsp;</span>Comparison of user behavior of two citys</a></span></li><li><span><a href=\"#Music-at-the-beginning-and-end-of-the-week\" data-toc-modified-id=\"Music-at-the-beginning-and-end-of-the-week-3.2\"><span class=\"toc-item-num\">3.2&nbsp;&nbsp;</span>Music at the beginning and end of the week</a></span></li><li><span><a href=\"#Genre-preferences-in-Moscow-and-St.-Petersburg\" data-toc-modified-id=\"Genre-preferences-in-Moscow-and-St.-Petersburg-3.3\"><span class=\"toc-item-num\">3.3&nbsp;&nbsp;</span>Genre preferences in Moscow and St. Petersburg</a></span></li></ul></li><li><span><a href=\"#Conclusion\" data-toc-modified-id=\"Conclusion-4\"><span class=\"toc-item-num\">4&nbsp;&nbsp;</span>Conclusion</a></span></li></ul></div>"
   ]
  },
  {
   "cell_type": "markdown",
   "id": "f6c35e2c",
   "metadata": {},
   "source": [
    "**Research goal:**  \n",
    "test three hypotheses: \n",
    "1. User activity depends on the day of the week. Moreover, in Moscow and St. Petersburg this manifests itself in different ways. \n",
    "2. On Monday morning, certain genres dominate in Moscow, while others dominate in St. Petersburg. Similarly, Friday evenings are dominated by different genres, depending on the city. \n",
    "3. Moscow and St. Petersburg prefer different genres of music. In Moscow, they listen to pop music more often, in St. Petersburg - Russian rap.\n"
   ]
  },
  {
   "cell_type": "markdown",
   "id": "1896d650",
   "metadata": {},
   "source": [
    "## Data overview"
   ]
  },
  {
   "cell_type": "code",
   "execution_count": 1,
   "id": "2a446360",
   "metadata": {},
   "outputs": [],
   "source": [
    "# Importing libraries\n",
    "import pandas as pd\n",
    "from ydata_profiling import ProfileReport\n",
    "from scipy.stats import ttest_ind\n",
    "import matplotlib.pyplot as plt\n",
    "import seaborn as sns\n",
    "import numpy as np\n",
    "from scipy.stats import ttest_ind, f_oneway\n"
   ]
  },
  {
   "cell_type": "code",
   "execution_count": 2,
   "id": "b2ad70e3",
   "metadata": {},
   "outputs": [
    {
     "name": "stdout",
     "output_type": "stream",
     "text": [
      "File successfully loaded\n"
     ]
    }
   ],
   "source": [
    "# Loading the dataset\n",
    "file_path = \"C:/Users/Julia/Documents/Portfolio/yandex_music_project/yandex_music_project.csv\"\n",
    "\n",
    "try:\n",
    "    df = pd.read_csv(file_path)\n",
    "    print(\"File successfully loaded\")\n",
    "    \n",
    "except FileNotFoundError:\n",
    "    print(\"File not found\")\n",
    "except Exception as e:\n",
    "    print(\"An error occurred:\", str(e))\n"
   ]
  },
  {
   "cell_type": "code",
   "execution_count": 3,
   "id": "a9f608c3",
   "metadata": {},
   "outputs": [
    {
     "data": {
      "text/html": [
       "<div>\n",
       "<style scoped>\n",
       "    .dataframe tbody tr th:only-of-type {\n",
       "        vertical-align: middle;\n",
       "    }\n",
       "\n",
       "    .dataframe tbody tr th {\n",
       "        vertical-align: top;\n",
       "    }\n",
       "\n",
       "    .dataframe thead th {\n",
       "        text-align: right;\n",
       "    }\n",
       "</style>\n",
       "<table border=\"1\" class=\"dataframe\">\n",
       "  <thead>\n",
       "    <tr style=\"text-align: right;\">\n",
       "      <th></th>\n",
       "      <th>userID</th>\n",
       "      <th>Track</th>\n",
       "      <th>artist</th>\n",
       "      <th>genre</th>\n",
       "      <th>City</th>\n",
       "      <th>time</th>\n",
       "      <th>Day</th>\n",
       "    </tr>\n",
       "  </thead>\n",
       "  <tbody>\n",
       "    <tr>\n",
       "      <th>0</th>\n",
       "      <td>FFB692EC</td>\n",
       "      <td>Kamigata To Boots</td>\n",
       "      <td>The Mass Missile</td>\n",
       "      <td>rock</td>\n",
       "      <td>Saint-Petersburg</td>\n",
       "      <td>20:28:33</td>\n",
       "      <td>Wednesday</td>\n",
       "    </tr>\n",
       "    <tr>\n",
       "      <th>1</th>\n",
       "      <td>55204538</td>\n",
       "      <td>Delayed Because of Accident</td>\n",
       "      <td>Andreas Rönnberg</td>\n",
       "      <td>rock</td>\n",
       "      <td>Moscow</td>\n",
       "      <td>14:07:09</td>\n",
       "      <td>Friday</td>\n",
       "    </tr>\n",
       "    <tr>\n",
       "      <th>2</th>\n",
       "      <td>20EC38</td>\n",
       "      <td>Funiculì funiculà</td>\n",
       "      <td>Mario Lanza</td>\n",
       "      <td>pop</td>\n",
       "      <td>Saint-Petersburg</td>\n",
       "      <td>20:58:07</td>\n",
       "      <td>Wednesday</td>\n",
       "    </tr>\n",
       "    <tr>\n",
       "      <th>3</th>\n",
       "      <td>A3DD03C9</td>\n",
       "      <td>Dragons in the Sunset</td>\n",
       "      <td>Fire + Ice</td>\n",
       "      <td>folk</td>\n",
       "      <td>Saint-Petersburg</td>\n",
       "      <td>08:37:09</td>\n",
       "      <td>Monday</td>\n",
       "    </tr>\n",
       "    <tr>\n",
       "      <th>4</th>\n",
       "      <td>E2DC1FAE</td>\n",
       "      <td>Soul People</td>\n",
       "      <td>Space Echo</td>\n",
       "      <td>dance</td>\n",
       "      <td>Moscow</td>\n",
       "      <td>08:34:34</td>\n",
       "      <td>Monday</td>\n",
       "    </tr>\n",
       "  </tbody>\n",
       "</table>\n",
       "</div>"
      ],
      "text/plain": [
       "     userID                        Track            artist  genre  \\\n",
       "0  FFB692EC            Kamigata To Boots  The Mass Missile   rock   \n",
       "1  55204538  Delayed Because of Accident  Andreas Rönnberg   rock   \n",
       "2    20EC38            Funiculì funiculà       Mario Lanza    pop   \n",
       "3  A3DD03C9        Dragons in the Sunset        Fire + Ice   folk   \n",
       "4  E2DC1FAE                  Soul People        Space Echo  dance   \n",
       "\n",
       "             City        time        Day  \n",
       "0  Saint-Petersburg  20:28:33  Wednesday  \n",
       "1            Moscow  14:07:09     Friday  \n",
       "2  Saint-Petersburg  20:58:07  Wednesday  \n",
       "3  Saint-Petersburg  08:37:09     Monday  \n",
       "4            Moscow  08:34:34     Monday  "
      ]
     },
     "execution_count": 3,
     "metadata": {},
     "output_type": "execute_result"
    }
   ],
   "source": [
    "df.head()"
   ]
  },
  {
   "cell_type": "markdown",
   "id": "76079fd9",
   "metadata": {},
   "source": [
    "Columns should be renamed to the snake_case"
   ]
  },
  {
   "cell_type": "code",
   "execution_count": 4,
   "id": "12f41828",
   "metadata": {},
   "outputs": [
    {
     "data": {
      "text/plain": [
       "Index(['user_id', 'track', 'artist', 'genre', 'city', 'time', 'day'], dtype='object')"
      ]
     },
     "execution_count": 4,
     "metadata": {},
     "output_type": "execute_result"
    }
   ],
   "source": [
    "# Renaming columns to snake_case and removing spaces\n",
    "df.rename(columns=lambda x: x.strip().replace(' ', '').lower()\n",
    "                              .replace('userid', 'user_id'), inplace=True)\n",
    "\n",
    "df.columns"
   ]
  },
  {
   "cell_type": "code",
   "execution_count": 13,
   "id": "7bfaff6d",
   "metadata": {},
   "outputs": [],
   "source": [
    "def data_info(df):\n",
    "    # Function for describing DataFrame characteristics\n",
    "    info = print('Random 10 rows of the dataset'), display(df.sample(n=10)), \\\n",
    "    print('\\nInformation about the number of observations and data types\\n'), df.info(), \\\n",
    "    print('\\n\\nStatistical data'), display(df.describe(include='all', datetime_is_numeric=True)), \\\n",
    "    print('\\n\\nMissing values:'), display(pd.DataFrame(round(df.isna().mean()*100,1))\\\n",
    "                                    .style.background_gradient('coolwarm')),\\\n",
    "    print('\\n\\nNumber of zero values in columns:'), display(pd.DataFrame(df.eq(0).sum())),\\\n",
    "    print('\\nNumber of explicit duplicates:', df.duplicated().sum())\n",
    "\n"
   ]
  },
  {
   "cell_type": "code",
   "execution_count": 14,
   "id": "ce21cc22",
   "metadata": {
    "scrolled": false
   },
   "outputs": [
    {
     "name": "stdout",
     "output_type": "stream",
     "text": [
      "Random 10 rows of the dataset\n"
     ]
    },
    {
     "data": {
      "text/html": [
       "<div>\n",
       "<style scoped>\n",
       "    .dataframe tbody tr th:only-of-type {\n",
       "        vertical-align: middle;\n",
       "    }\n",
       "\n",
       "    .dataframe tbody tr th {\n",
       "        vertical-align: top;\n",
       "    }\n",
       "\n",
       "    .dataframe thead th {\n",
       "        text-align: right;\n",
       "    }\n",
       "</style>\n",
       "<table border=\"1\" class=\"dataframe\">\n",
       "  <thead>\n",
       "    <tr style=\"text-align: right;\">\n",
       "      <th></th>\n",
       "      <th>user_id</th>\n",
       "      <th>track</th>\n",
       "      <th>artist</th>\n",
       "      <th>genre</th>\n",
       "      <th>city</th>\n",
       "      <th>time</th>\n",
       "      <th>day</th>\n",
       "    </tr>\n",
       "  </thead>\n",
       "  <tbody>\n",
       "    <tr>\n",
       "      <th>4207</th>\n",
       "      <td>2864D190</td>\n",
       "      <td>Давай поженимся</td>\n",
       "      <td>Олег Пахомов</td>\n",
       "      <td>other</td>\n",
       "      <td>Moscow</td>\n",
       "      <td>20:16:57</td>\n",
       "      <td>Monday</td>\n",
       "    </tr>\n",
       "    <tr>\n",
       "      <th>44431</th>\n",
       "      <td>B71ABAB6</td>\n",
       "      <td>Searchin' (Re-Mastered)</td>\n",
       "      <td>The Coasters</td>\n",
       "      <td>rock</td>\n",
       "      <td>Moscow</td>\n",
       "      <td>13:57:44</td>\n",
       "      <td>Monday</td>\n",
       "    </tr>\n",
       "    <tr>\n",
       "      <th>12659</th>\n",
       "      <td>91EE6865</td>\n",
       "      <td>Поле чудес</td>\n",
       "      <td>Гарри Бардин</td>\n",
       "      <td>children</td>\n",
       "      <td>Moscow</td>\n",
       "      <td>21:30:49</td>\n",
       "      <td>Friday</td>\n",
       "    </tr>\n",
       "    <tr>\n",
       "      <th>62161</th>\n",
       "      <td>962D83D2</td>\n",
       "      <td>Al Pacino</td>\n",
       "      <td>NaN</td>\n",
       "      <td>dance</td>\n",
       "      <td>Saint-Petersburg</td>\n",
       "      <td>14:28:56</td>\n",
       "      <td>Wednesday</td>\n",
       "    </tr>\n",
       "    <tr>\n",
       "      <th>31747</th>\n",
       "      <td>E3AA0FCE</td>\n",
       "      <td>Hard Corpse</td>\n",
       "      <td>Bass Kittens</td>\n",
       "      <td>electronic</td>\n",
       "      <td>Saint-Petersburg</td>\n",
       "      <td>20:24:48</td>\n",
       "      <td>Friday</td>\n",
       "    </tr>\n",
       "    <tr>\n",
       "      <th>6809</th>\n",
       "      <td>618195A6</td>\n",
       "      <td>Save Tonight</td>\n",
       "      <td>The Blackout</td>\n",
       "      <td>posthardcore</td>\n",
       "      <td>Saint-Petersburg</td>\n",
       "      <td>08:38:06</td>\n",
       "      <td>Wednesday</td>\n",
       "    </tr>\n",
       "    <tr>\n",
       "      <th>36178</th>\n",
       "      <td>F22A584B</td>\n",
       "      <td>Heavenly</td>\n",
       "      <td>Priscilla Renea</td>\n",
       "      <td>rnb</td>\n",
       "      <td>Moscow</td>\n",
       "      <td>21:48:02</td>\n",
       "      <td>Friday</td>\n",
       "    </tr>\n",
       "    <tr>\n",
       "      <th>47585</th>\n",
       "      <td>112AE694</td>\n",
       "      <td>Pulsar Activity</td>\n",
       "      <td>Cosmic Replicant</td>\n",
       "      <td>electronic</td>\n",
       "      <td>Moscow</td>\n",
       "      <td>20:56:45</td>\n",
       "      <td>Friday</td>\n",
       "    </tr>\n",
       "    <tr>\n",
       "      <th>9862</th>\n",
       "      <td>56496127</td>\n",
       "      <td>King Cobra</td>\n",
       "      <td>NaN</td>\n",
       "      <td>soundtrack</td>\n",
       "      <td>Saint-Petersburg</td>\n",
       "      <td>20:03:27</td>\n",
       "      <td>Monday</td>\n",
       "    </tr>\n",
       "    <tr>\n",
       "      <th>386</th>\n",
       "      <td>CA88AF3B</td>\n",
       "      <td>Healing</td>\n",
       "      <td>Love Eternal</td>\n",
       "      <td>reggae</td>\n",
       "      <td>Saint-Petersburg</td>\n",
       "      <td>13:23:43</td>\n",
       "      <td>Wednesday</td>\n",
       "    </tr>\n",
       "  </tbody>\n",
       "</table>\n",
       "</div>"
      ],
      "text/plain": [
       "        user_id                    track            artist         genre  \\\n",
       "4207   2864D190          Давай поженимся      Олег Пахомов         other   \n",
       "44431  B71ABAB6  Searchin' (Re-Mastered)      The Coasters          rock   \n",
       "12659  91EE6865               Поле чудес      Гарри Бардин      children   \n",
       "62161  962D83D2                Al Pacino               NaN         dance   \n",
       "31747  E3AA0FCE              Hard Corpse      Bass Kittens    electronic   \n",
       "6809   618195A6             Save Tonight      The Blackout  posthardcore   \n",
       "36178  F22A584B                 Heavenly   Priscilla Renea           rnb   \n",
       "47585  112AE694          Pulsar Activity  Cosmic Replicant    electronic   \n",
       "9862   56496127               King Cobra               NaN    soundtrack   \n",
       "386    CA88AF3B                  Healing      Love Eternal        reggae   \n",
       "\n",
       "                   city      time        day  \n",
       "4207             Moscow  20:16:57     Monday  \n",
       "44431            Moscow  13:57:44     Monday  \n",
       "12659            Moscow  21:30:49     Friday  \n",
       "62161  Saint-Petersburg  14:28:56  Wednesday  \n",
       "31747  Saint-Petersburg  20:24:48     Friday  \n",
       "6809   Saint-Petersburg  08:38:06  Wednesday  \n",
       "36178            Moscow  21:48:02     Friday  \n",
       "47585            Moscow  20:56:45     Friday  \n",
       "9862   Saint-Petersburg  20:03:27     Monday  \n",
       "386    Saint-Petersburg  13:23:43  Wednesday  "
      ]
     },
     "metadata": {},
     "output_type": "display_data"
    },
    {
     "name": "stdout",
     "output_type": "stream",
     "text": [
      "\n",
      "Information about the number of observations and data types\n",
      "\n",
      "<class 'pandas.core.frame.DataFrame'>\n",
      "RangeIndex: 65079 entries, 0 to 65078\n",
      "Data columns (total 7 columns):\n",
      " #   Column   Non-Null Count  Dtype \n",
      "---  ------   --------------  ----- \n",
      " 0   user_id  65079 non-null  object\n",
      " 1   track    63848 non-null  object\n",
      " 2   artist   57876 non-null  object\n",
      " 3   genre    63881 non-null  object\n",
      " 4   city     65079 non-null  object\n",
      " 5   time     65079 non-null  object\n",
      " 6   day      65079 non-null  object\n",
      "dtypes: object(7)\n",
      "memory usage: 3.5+ MB\n",
      "\n",
      "\n",
      "Statistical data\n"
     ]
    },
    {
     "data": {
      "text/html": [
       "<div>\n",
       "<style scoped>\n",
       "    .dataframe tbody tr th:only-of-type {\n",
       "        vertical-align: middle;\n",
       "    }\n",
       "\n",
       "    .dataframe tbody tr th {\n",
       "        vertical-align: top;\n",
       "    }\n",
       "\n",
       "    .dataframe thead th {\n",
       "        text-align: right;\n",
       "    }\n",
       "</style>\n",
       "<table border=\"1\" class=\"dataframe\">\n",
       "  <thead>\n",
       "    <tr style=\"text-align: right;\">\n",
       "      <th></th>\n",
       "      <th>user_id</th>\n",
       "      <th>track</th>\n",
       "      <th>artist</th>\n",
       "      <th>genre</th>\n",
       "      <th>city</th>\n",
       "      <th>time</th>\n",
       "      <th>day</th>\n",
       "    </tr>\n",
       "  </thead>\n",
       "  <tbody>\n",
       "    <tr>\n",
       "      <th>count</th>\n",
       "      <td>65079</td>\n",
       "      <td>63848</td>\n",
       "      <td>57876</td>\n",
       "      <td>63881</td>\n",
       "      <td>65079</td>\n",
       "      <td>65079</td>\n",
       "      <td>65079</td>\n",
       "    </tr>\n",
       "    <tr>\n",
       "      <th>unique</th>\n",
       "      <td>41748</td>\n",
       "      <td>47245</td>\n",
       "      <td>43605</td>\n",
       "      <td>289</td>\n",
       "      <td>2</td>\n",
       "      <td>20392</td>\n",
       "      <td>3</td>\n",
       "    </tr>\n",
       "    <tr>\n",
       "      <th>top</th>\n",
       "      <td>A8AE9169</td>\n",
       "      <td>Intro</td>\n",
       "      <td>Sasha</td>\n",
       "      <td>pop</td>\n",
       "      <td>Moscow</td>\n",
       "      <td>08:14:07</td>\n",
       "      <td>Friday</td>\n",
       "    </tr>\n",
       "    <tr>\n",
       "      <th>freq</th>\n",
       "      <td>76</td>\n",
       "      <td>34</td>\n",
       "      <td>6</td>\n",
       "      <td>8850</td>\n",
       "      <td>45360</td>\n",
       "      <td>14</td>\n",
       "      <td>23149</td>\n",
       "    </tr>\n",
       "  </tbody>\n",
       "</table>\n",
       "</div>"
      ],
      "text/plain": [
       "         user_id  track artist  genre    city      time     day\n",
       "count      65079  63848  57876  63881   65079     65079   65079\n",
       "unique     41748  47245  43605    289       2     20392       3\n",
       "top     A8AE9169  Intro  Sasha    pop  Moscow  08:14:07  Friday\n",
       "freq          76     34      6   8850   45360        14   23149"
      ]
     },
     "metadata": {},
     "output_type": "display_data"
    },
    {
     "name": "stdout",
     "output_type": "stream",
     "text": [
      "\n",
      "\n",
      "Missing values:\n"
     ]
    },
    {
     "data": {
      "text/html": [
       "<style type=\"text/css\">\n",
       "#T_2823d_row0_col0, #T_2823d_row4_col0, #T_2823d_row5_col0, #T_2823d_row6_col0 {\n",
       "  background-color: #3b4cc0;\n",
       "  color: #f1f1f1;\n",
       "}\n",
       "#T_2823d_row1_col0 {\n",
       "  background-color: #7093f3;\n",
       "  color: #f1f1f1;\n",
       "}\n",
       "#T_2823d_row2_col0 {\n",
       "  background-color: #b40426;\n",
       "  color: #f1f1f1;\n",
       "}\n",
       "#T_2823d_row3_col0 {\n",
       "  background-color: #6e90f2;\n",
       "  color: #f1f1f1;\n",
       "}\n",
       "</style>\n",
       "<table id=\"T_2823d\">\n",
       "  <thead>\n",
       "    <tr>\n",
       "      <th class=\"blank level0\" >&nbsp;</th>\n",
       "      <th id=\"T_2823d_level0_col0\" class=\"col_heading level0 col0\" >0</th>\n",
       "    </tr>\n",
       "  </thead>\n",
       "  <tbody>\n",
       "    <tr>\n",
       "      <th id=\"T_2823d_level0_row0\" class=\"row_heading level0 row0\" >user_id</th>\n",
       "      <td id=\"T_2823d_row0_col0\" class=\"data row0 col0\" >0.000000</td>\n",
       "    </tr>\n",
       "    <tr>\n",
       "      <th id=\"T_2823d_level0_row1\" class=\"row_heading level0 row1\" >track</th>\n",
       "      <td id=\"T_2823d_row1_col0\" class=\"data row1 col0\" >1.900000</td>\n",
       "    </tr>\n",
       "    <tr>\n",
       "      <th id=\"T_2823d_level0_row2\" class=\"row_heading level0 row2\" >artist</th>\n",
       "      <td id=\"T_2823d_row2_col0\" class=\"data row2 col0\" >11.100000</td>\n",
       "    </tr>\n",
       "    <tr>\n",
       "      <th id=\"T_2823d_level0_row3\" class=\"row_heading level0 row3\" >genre</th>\n",
       "      <td id=\"T_2823d_row3_col0\" class=\"data row3 col0\" >1.800000</td>\n",
       "    </tr>\n",
       "    <tr>\n",
       "      <th id=\"T_2823d_level0_row4\" class=\"row_heading level0 row4\" >city</th>\n",
       "      <td id=\"T_2823d_row4_col0\" class=\"data row4 col0\" >0.000000</td>\n",
       "    </tr>\n",
       "    <tr>\n",
       "      <th id=\"T_2823d_level0_row5\" class=\"row_heading level0 row5\" >time</th>\n",
       "      <td id=\"T_2823d_row5_col0\" class=\"data row5 col0\" >0.000000</td>\n",
       "    </tr>\n",
       "    <tr>\n",
       "      <th id=\"T_2823d_level0_row6\" class=\"row_heading level0 row6\" >day</th>\n",
       "      <td id=\"T_2823d_row6_col0\" class=\"data row6 col0\" >0.000000</td>\n",
       "    </tr>\n",
       "  </tbody>\n",
       "</table>\n"
      ],
      "text/plain": [
       "<pandas.io.formats.style.Styler at 0x2a64349d5b0>"
      ]
     },
     "metadata": {},
     "output_type": "display_data"
    },
    {
     "name": "stdout",
     "output_type": "stream",
     "text": [
      "\n",
      "\n",
      "Number of zero values in columns:\n"
     ]
    },
    {
     "data": {
      "text/html": [
       "<div>\n",
       "<style scoped>\n",
       "    .dataframe tbody tr th:only-of-type {\n",
       "        vertical-align: middle;\n",
       "    }\n",
       "\n",
       "    .dataframe tbody tr th {\n",
       "        vertical-align: top;\n",
       "    }\n",
       "\n",
       "    .dataframe thead th {\n",
       "        text-align: right;\n",
       "    }\n",
       "</style>\n",
       "<table border=\"1\" class=\"dataframe\">\n",
       "  <thead>\n",
       "    <tr style=\"text-align: right;\">\n",
       "      <th></th>\n",
       "      <th>0</th>\n",
       "    </tr>\n",
       "  </thead>\n",
       "  <tbody>\n",
       "    <tr>\n",
       "      <th>user_id</th>\n",
       "      <td>0</td>\n",
       "    </tr>\n",
       "    <tr>\n",
       "      <th>track</th>\n",
       "      <td>0</td>\n",
       "    </tr>\n",
       "    <tr>\n",
       "      <th>artist</th>\n",
       "      <td>0</td>\n",
       "    </tr>\n",
       "    <tr>\n",
       "      <th>genre</th>\n",
       "      <td>0</td>\n",
       "    </tr>\n",
       "    <tr>\n",
       "      <th>city</th>\n",
       "      <td>0</td>\n",
       "    </tr>\n",
       "    <tr>\n",
       "      <th>time</th>\n",
       "      <td>0</td>\n",
       "    </tr>\n",
       "    <tr>\n",
       "      <th>day</th>\n",
       "      <td>0</td>\n",
       "    </tr>\n",
       "  </tbody>\n",
       "</table>\n",
       "</div>"
      ],
      "text/plain": [
       "         0\n",
       "user_id  0\n",
       "track    0\n",
       "artist   0\n",
       "genre    0\n",
       "city     0\n",
       "time     0\n",
       "day      0"
      ]
     },
     "metadata": {},
     "output_type": "display_data"
    },
    {
     "name": "stdout",
     "output_type": "stream",
     "text": [
      "\n",
      "Number of explicit duplicates: 3826\n"
     ]
    }
   ],
   "source": [
    "\n",
    "data_info(df)"
   ]
  },
  {
   "cell_type": "markdown",
   "id": "235a30a9",
   "metadata": {},
   "source": [
    "Missing values has variables `track, artist and genre.`    \n",
    "Dataset has 5.7% duplicate rows.  \n",
    "Dataset must be checked for implicit duplicates.  \n"
   ]
  },
  {
   "cell_type": "markdown",
   "id": "f74f38a0",
   "metadata": {},
   "source": [
    "## Data Preprocessing"
   ]
  },
  {
   "cell_type": "markdown",
   "id": "31cdfff8",
   "metadata": {},
   "source": [
    "### Missing values"
   ]
  },
  {
   "cell_type": "markdown",
   "id": "b507084c",
   "metadata": {},
   "source": [
    "Variables `track, artist` are not used in the set hypotheses, missing values will be replaced by the value \"unknown\". \n",
    "missing values in `genre` will be replaced by mode of values based on matching `artist` variable, if there is no matching - by \"unknown\""
   ]
  },
  {
   "cell_type": "code",
   "execution_count": null,
   "id": "6ac55981",
   "metadata": {},
   "outputs": [],
   "source": [
    "# Replace missing values\n",
    "columns_to_replace = ['track', 'artist']\n",
    "replace_value = 'unknown'\n",
    "df[columns_to_replace] = df[columns_to_replace].fillna(replace_value)\n",
    "# Fill missing 'genre' values based on matching 'artist'\n",
    "df['genre'] = df.groupby('artist')['genre'].transform(lambda x: x.fillna(x.mode()[0] if not x.mode().empty else 'unknown'))\n",
    "df.isna().sum()"
   ]
  },
  {
   "cell_type": "markdown",
   "id": "0512d099",
   "metadata": {},
   "source": [
    "### Duplicate rows"
   ]
  },
  {
   "cell_type": "markdown",
   "id": "a3e647f7",
   "metadata": {},
   "source": [
    "Check for implicit duplicates"
   ]
  },
  {
   "cell_type": "code",
   "execution_count": null,
   "id": "01f1bb00",
   "metadata": {},
   "outputs": [],
   "source": [
    "genre = df['genre'].sort_values().unique()\n",
    "genre"
   ]
  },
  {
   "cell_type": "markdown",
   "id": "513249c0",
   "metadata": {},
   "source": [
    "There are synonyms of genres, it is necessary to bring them to a single spelling"
   ]
  },
  {
   "cell_type": "code",
   "execution_count": null,
   "id": "6c091c3a",
   "metadata": {},
   "outputs": [],
   "source": [
    "# Replacement of synonyms\n",
    "df['genre'] = df['genre'].replace({\n",
    "    'frankreich': 'french',\n",
    "    'französisch': 'french',\n",
    "    'hip': 'hiphop',\n",
    "    'hip-hop': 'hiphop',\n",
    "    'hop': 'hiphop',\n",
    "    'independent': 'indie',\n",
    "    'neue': 'new',\n",
    "    'türk': 'türkçe',\n",
    "    'электроника': 'electronic'\n",
    "})"
   ]
  },
  {
   "cell_type": "code",
   "execution_count": null,
   "id": "c433c006",
   "metadata": {},
   "outputs": [],
   "source": [
    "df['city'].unique()"
   ]
  },
  {
   "cell_type": "code",
   "execution_count": null,
   "id": "403a40b7",
   "metadata": {},
   "outputs": [],
   "source": [
    "df.duplicated().sum()"
   ]
  },
  {
   "cell_type": "code",
   "execution_count": null,
   "id": "3885a0a8",
   "metadata": {},
   "outputs": [],
   "source": [
    "df = df.drop_duplicates()"
   ]
  },
  {
   "cell_type": "code",
   "execution_count": null,
   "id": "d3f7ab42",
   "metadata": {},
   "outputs": [],
   "source": [
    "df.duplicated().sum()"
   ]
  },
  {
   "cell_type": "markdown",
   "id": "c668f254",
   "metadata": {},
   "source": [
    "## Hypothesis Testing"
   ]
  },
  {
   "cell_type": "markdown",
   "id": "4b566e00",
   "metadata": {},
   "source": [
    "### Comparison of user behavior of two citys"
   ]
  },
  {
   "cell_type": "markdown",
   "id": "f0c6c4cd",
   "metadata": {},
   "source": [
    "* **Null Hypothesis (H0)**:   \n",
    "There is no significant difference in user activity based on the day of the week between Moscow and Saint Petersburg.  \n",
    "\n",
    "* **Alternative Hypothesis (H1)**:   \n",
    "User activity varies significantly based on the day of the week, and this variation differs between Moscow and Saint Petersburg."
   ]
  },
  {
   "cell_type": "code",
   "execution_count": null,
   "id": "aed376e7",
   "metadata": {},
   "outputs": [],
   "source": [
    "moscow_users = len(df.query('city == \"Moscow\"')['user_id'])\n",
    "moscow_users"
   ]
  },
  {
   "cell_type": "code",
   "execution_count": null,
   "id": "60ec2571",
   "metadata": {},
   "outputs": [],
   "source": [
    "spb_users = len(df.query('city == \"Saint-Petersburg\"')['user_id'])\n",
    "spb_users"
   ]
  },
  {
   "cell_type": "code",
   "execution_count": null,
   "id": "49620afc",
   "metadata": {},
   "outputs": [],
   "source": [
    "%matplotlib inline\n",
    "plt.style.use('dark_background')\n",
    "# Group data by day and count activities\n",
    "grouped = df.groupby(['day', 'city']).size().reset_index(name='count')\n",
    "grouped['percentage_city_users'] = grouped.apply(\n",
    "    lambda row: row['count'] / moscow_users * 100 \n",
    "    if row['city'] == 'Moscow' \n",
    "    else row['count'] / spb_users * 100, axis=1)\n",
    "# Visualization\n",
    "plt.figure(figsize=(10, 6))\n",
    "sns.barplot(data=grouped, x='day', y='percentage_city_users', hue='city')\n",
    "\n",
    "for p in plt.gca().patches:\n",
    "    height = p.get_height()\n",
    "    plt.gca().text(p.get_x() + p.get_width() / 2, height + 0.5, f'{height:.1f}%', ha='center', va='bottom')\n",
    "\n",
    "plt.xlabel('Day of the Week')\n",
    "plt.ylabel('Percentage of City Listens')\n",
    "plt.title('Percentage of City Listens by Day of the Week for Moscow and Saint-Petersburg')\n",
    "plt.xticks(rotation=45)\n",
    "plt.tight_layout()\n",
    "plt.legend(loc='lower right')\n",
    "plt.show()\n"
   ]
  },
  {
   "cell_type": "markdown",
   "id": "a867987e",
   "metadata": {},
   "source": [
    "When examining user activity across days of the week in Moscow and St. Petersburg, distinct patterns emerge. On Wednesdays in Moscow, user activity experiences a noticeable decrease. In contrast, in St. Petersburg, there is a slight increase in user activity on the same day. Moreover, it is evident that overall user activity in Moscow is considerably higher than in St. Petersburg."
   ]
  },
  {
   "cell_type": "code",
   "execution_count": null,
   "id": "bb0dbc33",
   "metadata": {},
   "outputs": [],
   "source": [
    "# Dividing the data into two groups: Moscow and St. Petersburg\n",
    "moscow = grouped[grouped['city'] == 'Moscow']['count']\n",
    "spb = grouped[grouped['city'] == 'Saint-Petersburg']['count']\n",
    "#  t-test\n",
    "t_stat, p_value = ttest_ind(moscow, spb)\n",
    "print(f\"t-statistic: {t_stat}\")\n",
    "print(f\"p-value: {p_value}\")\n",
    "\n",
    "# Determining Statistical Significance\n",
    "alpha = 0.05\n",
    "if p_value < alpha:\n",
    "    print(\"\\nReject null hypothesis: There is a significant difference between Moscow and Saint-Petersburg.\")\n",
    "else:\n",
    "    print(\"\\nFail to reject null hypothesis: No significant difference between Moscow and Saint-Petersburg.\")"
   ]
  },
  {
   "cell_type": "markdown",
   "id": "01d79293",
   "metadata": {},
   "source": [
    "### Music at the beginning and end of the week"
   ]
  },
  {
   "cell_type": "markdown",
   "id": "31a1f0f4",
   "metadata": {},
   "source": [
    "* **Null hypothesis (H0):** There is no difference in the predominant genres between Moscow and Saint-Petersburg on Monday mornings or Friday evenings.\n",
    "\n",
    "* **Alternative hypothesis (H1):** There is a difference in the predominant genres between Moscow and Saint-Petersburg on Monday mornings and Friday evenings."
   ]
  },
  {
   "cell_type": "code",
   "execution_count": null,
   "id": "8b50b576",
   "metadata": {},
   "outputs": [],
   "source": [
    "moscow_general = df[df['city'] == 'Moscow']\n",
    "spb_general = df[df['city'] == 'Saint-Petersburg']"
   ]
  },
  {
   "cell_type": "code",
   "execution_count": null,
   "id": "51c32bb6",
   "metadata": {},
   "outputs": [],
   "source": [
    "def genre_weekday(df, day, time1, time2):\n",
    "    # Filter the DataFrame to keep rows where the 'day' column equals the specified 'day'.\n",
    "    genre_df = df[df['day'] == day]\n",
    "\n",
    "    # Filter the 'genre_df' DataFrame to keep rows with a 'time' column greater than 'time1'.\n",
    "    genre_df = genre_df[genre_df['time'] > time1]\n",
    "\n",
    "    # Filter the 'genre_df' DataFrame again to keep rows with a 'time' column less than 'time2'.\n",
    "    genre_df = genre_df[genre_df['time'] < time2]\n",
    "\n",
    "    # Group the filtered DataFrame by the 'genre' column and count the occurrences of each genre.\n",
    "    genre_df_grouped = genre_df.groupby('genre')['genre'].count()\n",
    "\n",
    "    # Sort the resulting Series in descending order to have the most popular genres first.\n",
    "    genre_df_sorted = genre_df_grouped.sort_values(ascending=False)\n",
    "\n",
    "    # Return a Series with the top 10 most popular genres during the specified time interval of the given day.\n",
    "    return genre_df_sorted[:10]"
   ]
  },
  {
   "cell_type": "code",
   "execution_count": null,
   "id": "a48918c7",
   "metadata": {},
   "outputs": [],
   "source": [
    "genre_weekday(moscow_general, 'Monday', '07:00', '11:00')"
   ]
  },
  {
   "cell_type": "code",
   "execution_count": null,
   "id": "e029b632",
   "metadata": {},
   "outputs": [],
   "source": [
    "genre_weekday(spb_general, 'Monday', '07:00', '11:00')"
   ]
  },
  {
   "cell_type": "code",
   "execution_count": null,
   "id": "6384b999",
   "metadata": {},
   "outputs": [],
   "source": [
    "genre_weekday(moscow_general, 'Friday', '17:00', '23:00')"
   ]
  },
  {
   "cell_type": "code",
   "execution_count": null,
   "id": "1a322b1a",
   "metadata": {},
   "outputs": [],
   "source": [
    "genre_weekday(spb_general, 'Friday', '17:00', '23:00')"
   ]
  },
  {
   "cell_type": "markdown",
   "id": "43c120a8",
   "metadata": {},
   "source": [
    "**Conclusions**\n",
    "\n",
    "When comparing the top 10 genres on Monday mornings, the following conclusions can be drawn:\n",
    "\n",
    "Moscow and St. Petersburg have similar music preferences. The only difference is that \"world\" music is in Moscow's ranking, while jazz and classical music are in St. Petersburg's ranking.\n",
    "\n",
    "In Moscow, there are so many missing values that the \"unknown\" genre occupies the tenth place among the most popular genres. This indicates that missing values account for a significant portion of the data and threaten the reliability of the study.\n",
    "\n",
    "Friday evening doesn't change this picture significantly. Some genres rise slightly, while others fall, but the overall top 10 remains largely the same.\n",
    "\n",
    "Thus, the second hypothesis is only partially confirmed:\n",
    "\n",
    "Users listen to similar music at the beginning and end of the week.\n",
    "The difference between Moscow and St. Petersburg is not very pronounced. Moscow residents listen to Russian pop music more frequently, while St. Petersburg residents prefer jazz.\n",
    "However, the presence of missing data questions this result. In Moscow, there are so many missing values that the top 10 ranking could look different if data about genres were not lost."
   ]
  },
  {
   "cell_type": "markdown",
   "id": "d44bc59a",
   "metadata": {},
   "source": [
    "### Genre preferences in Moscow and St. Petersburg"
   ]
  },
  {
   "cell_type": "markdown",
   "id": "eba23674",
   "metadata": {},
   "source": [
    "Hypothesis: St. Petersburg is the capital of rap, the music of this genre is listened to there more often than in Moscow. And Moscow is a city of contrasts, which, nevertheless, is dominated by pop music."
   ]
  },
  {
   "cell_type": "code",
   "execution_count": null,
   "id": "d274fc95",
   "metadata": {},
   "outputs": [],
   "source": [
    "moscow_genres = moscow_general.groupby('genre')['genre'].count()\n",
    "moscow_genres = moscow_genres.sort_values(ascending=False)"
   ]
  },
  {
   "cell_type": "code",
   "execution_count": null,
   "id": "538b575e",
   "metadata": {},
   "outputs": [],
   "source": [
    "moscow_genres.head(10)"
   ]
  },
  {
   "cell_type": "code",
   "execution_count": null,
   "id": "7a40ea19",
   "metadata": {},
   "outputs": [],
   "source": [
    "spb_genres = spb_general.groupby('genre')['genre'].count()\n",
    "spb_genres = spb_genres.sort_values(ascending=False)"
   ]
  },
  {
   "cell_type": "code",
   "execution_count": null,
   "id": "4660ec72",
   "metadata": {},
   "outputs": [],
   "source": [
    "spb_genres.head(10)"
   ]
  },
  {
   "cell_type": "markdown",
   "id": "3716bd14",
   "metadata": {},
   "source": [
    "**Conclusions**  \n",
    "\n",
    "The hypothesis was partially confirmed: * Pop music is the most popular genre in Moscow, as the hypothesis suggested. Moreover, in the top 10 genres there is a close genre - Russian popular music. * Contrary to expectations, rap is equally popular in Moscow and St. Petersburg."
   ]
  },
  {
   "cell_type": "markdown",
   "id": "e2f41f0d",
   "metadata": {},
   "source": [
    "## Conclusion"
   ]
  },
  {
   "cell_type": "markdown",
   "id": "1d7d693c",
   "metadata": {},
   "source": [
    "In this analysis, three hypotheses were tested regarding the influence of the day of the week on user activity in Moscow and St. Petersburg, as well as the variation in music preferences during the week.\n",
    "\n",
    "The first hypothesis was fully confirmed, suggesting that the day of the week indeed has different effects on user activity in Moscow and St. Petersburg.\n",
    "\n",
    "The second hypothesis was partially confirmed. It was found that musical preferences do not change significantly during the week, whether in Moscow or St. Petersburg. However, minor differences were observed on Mondays: \"world\" music is more popular in Moscow, while jazz and classical music are preferred in St. Petersburg. It's worth noting that this result could have been different if there were no missing data.\n",
    "\n",
    "The third hypothesis was not confirmed. Despite expectations of significant differences, the analysis revealed more similarities than distinctions in the music preferences of Moscow and St. Petersburg users. If there are variations in preferences, they are not discernible in the overall user base.\n",
    "\n",
    "In light of these findings, it is essential to revisit this analysis, taking into account the limitations introduced by missing data. Further investigations or data collection efforts may provide deeper insights into the differences and commonalities in user behavior and music preferences in Moscow and St. Petersburg."
   ]
  },
  {
   "cell_type": "code",
   "execution_count": null,
   "id": "55d0e2fb",
   "metadata": {},
   "outputs": [],
   "source": []
  }
 ],
 "metadata": {
  "kernelspec": {
   "display_name": "Python 3 (ipykernel)",
   "language": "python",
   "name": "python3"
  },
  "language_info": {
   "codemirror_mode": {
    "name": "ipython",
    "version": 3
   },
   "file_extension": ".py",
   "mimetype": "text/x-python",
   "name": "python",
   "nbconvert_exporter": "python",
   "pygments_lexer": "ipython3",
   "version": "3.9.13"
  },
  "toc": {
   "base_numbering": 1,
   "nav_menu": {},
   "number_sections": true,
   "sideBar": true,
   "skip_h1_title": true,
   "title_cell": "Содержание",
   "title_sidebar": "Contents",
   "toc_cell": true,
   "toc_position": {},
   "toc_section_display": true,
   "toc_window_display": false
  }
 },
 "nbformat": 4,
 "nbformat_minor": 5
}
